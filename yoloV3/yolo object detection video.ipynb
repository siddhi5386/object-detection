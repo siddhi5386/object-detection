{
 "cells": [
  {
   "cell_type": "code",
   "execution_count": 2,
   "metadata": {},
   "outputs": [],
   "source": [
    "\n",
    "# import the necessary packages\n",
    "import numpy as np\n",
    "import argparse\n",
    "import imutils\n",
    "import time\n",
    "import cv2\n",
    "import os "
   ]
  },
  {
   "cell_type": "code",
   "execution_count": 3,
   "metadata": {},
   "outputs": [
    {
     "name": "stdout",
     "output_type": "stream",
     "text": [
      "[INFO] loading YOLO from disk...\n"
     ]
    }
   ],
   "source": [
    "# load the COCO class labels our YOLO model was trained on\n",
    "labelsPath = os.path.sep.join([\"yolo-coco\", \"coco.names\"])\n",
    "LABELS = open(labelsPath).read().strip().split(\"\\n\")\n",
    "\n",
    "# initialize a list of colors to represent each possible class label\n",
    "np.random.seed(42)\n",
    "COLORS = np.random.randint(0, 255, size=(len(LABELS), 3),dtype=\"uint8\")\n",
    "\n",
    "# derive the paths to the YOLO weights and model configuration\n",
    "weightsPath = os.path.sep.join([\"yolo-coco\", \"yolov3.weights\"])\n",
    "configPath = os.path.sep.join([\"yolo-coco\", \"yolov3.cfg\"])\n",
    "\n",
    "# load our YOLO object detector trained on COCO dataset (80 classes) and determine only the *output* layer names that we need from YOLO\n",
    "print(\"[INFO] loading YOLO from disk...\")\n",
    "net = cv2.dnn.readNetFromDarknet(configPath, weightsPath)\n",
    "ln = net.getLayerNames()\n",
    "ln = [ln[i[0] - 1] for i in net.getUnconnectedOutLayers()]"
   ]
  },
  {
   "cell_type": "code",
   "execution_count": 5,
   "metadata": {},
   "outputs": [
    {
     "name": "stdout",
     "output_type": "stream",
     "text": [
      "[INFO] 350 total frames in video\n"
     ]
    }
   ],
   "source": [
    "# initialize the video stream, pointer to output video file, and frame dimensions\n",
    "vs = cv2.VideoCapture(\"videos/car_chase_01.mp4\")\n",
    "writer = None\n",
    "(W, H) = (None, None)\n",
    "# try to determine the total number of frames in the video file\n",
    "try:\n",
    "\tprop = cv2.cv.CV_CAP_PROP_FRAME_COUNT if imutils.is_cv2() \\\n",
    "\t\telse cv2.CAP_PROP_FRAME_COUNT\n",
    "\ttotal = int(vs.get(prop))\n",
    "\tprint(\"[INFO] {} total frames in video\".format(total))\n",
    "    \n",
    "# an error occurred while trying to determine the total\n",
    "# number of frames in the video file\n",
    "except:\n",
    "\tprint(\"[INFO] could not determine # of frames in video\")\n",
    "\tprint(\"[INFO] no approx. completion time can be provided\")\n",
    "\ttotal = -1"
   ]
  },
  {
   "cell_type": "code",
   "execution_count": 6,
   "metadata": {},
   "outputs": [
    {
     "name": "stdout",
     "output_type": "stream",
     "text": [
      "[INFO] single frame took 2.0671 seconds\n",
      "[INFO] estimated total time to finish: 723.4889\n",
      "[INFO] cleaning up...\n"
     ]
    }
   ],
   "source": [
    "# loop over frames from the video file stream\n",
    "while True:\n",
    "\t# read the next frame from the file\n",
    "\t(grabbed, frame) = vs.read()\n",
    "\t# if the frame was not grabbed, then we have reached the end of the stream\n",
    "    \n",
    "\tif not grabbed:\n",
    "\t\tbreak\n",
    "\t# if the frame dimensions are empty, grab them\n",
    "\tif W is None or H is None:\n",
    "\t\t(H, W) = frame.shape[:2]\n",
    "        \n",
    "\t# construct a blob from the input frame and then perform a forward pass of the YOLO object detector, giving us our bounding boxes\n",
    "\t# and associated probabilities\n",
    "    \n",
    "\tblob = cv2.dnn.blobFromImage(frame, 1 / 255.0, (416, 416),swapRB=True, crop=False)\n",
    "\tnet.setInput(blob)\n",
    "\tstart = time.time()\n",
    "\tlayerOutputs = net.forward(ln)\n",
    "\tend = time.time()\n",
    "    \n",
    "\t# initialize our lists of detected bounding boxes, confidences,\n",
    "\t# and class IDs, respectively\n",
    "\tboxes = []\n",
    "\tconfidences = []\n",
    "\tclassIDs = []\n",
    "    \n",
    "\t# loop over each of the layer outputs\n",
    "\tfor output in layerOutputs:\n",
    "\t\t# loop over each of the detections\n",
    "\t\tfor detection in output:\n",
    "\t\t\t# extract the class ID and confidence (i.e., probability) of the current object detection\n",
    "            \n",
    "\t\t\tscores = detection[5:]\n",
    "\t\t\tclassID = np.argmax(scores)\n",
    "\t\t\tconfidence = scores[classID]\n",
    "\t\t\t# filter out weak predictions by ensuring the detected probability is greater than the minimum probability\n",
    "\t\t\tif confidence > 0.5:\n",
    "\t\t\t\t# scale the bounding box coordinates back relative to the size of the image, keeping in mind that YOLO actually returns the center (x, y)-coordinates of\n",
    "\t\t\t\t# the bounding box followed by the boxes' width and height\n",
    "                \n",
    "\t\t\t\tbox = detection[0:4] * np.array([W, H, W, H])\n",
    "\t\t\t\t(centerX, centerY, width, height) = box.astype(\"int\")\n",
    "                \n",
    "\t\t\t\t# use the center (x, y)-coordinates to derive the top and and left corner of the bounding box\n",
    "                \n",
    "\t\t\t\tx = int(centerX - (width / 2))\n",
    "\t\t\t\ty = int(centerY - (height / 2))\n",
    "                \n",
    "\t\t\t\t# update our list of bounding box coordinates, confidences, and class IDs\n",
    "\t\t\t\tboxes.append([x, y, int(width), int(height)])\n",
    "\t\t\t\tconfidences.append(float(confidence))\n",
    "\t\t\t\tclassIDs.append(classID)\n",
    "                \n",
    "\t# apply non-maxima suppression to suppress weak, overlapping bounding boxes\n",
    "    \n",
    "\tidxs = cv2.dnn.NMSBoxes(boxes, confidences, 0.5,0.3) #confidence, threshold\n",
    "    \n",
    "\t# ensure at least one detection exists\n",
    "\tif len(idxs) > 0:\n",
    "\t\t# loop over the indexes we are keeping\n",
    "\t\tfor i in idxs.flatten():\n",
    "            \n",
    "\t\t\t# extract the bounding box coordinates\n",
    "\t\t\t(x, y) = (boxes[i][0], boxes[i][1])\n",
    "\t\t\t(w, h) = (boxes[i][2], boxes[i][3])\n",
    "            \n",
    "\t\t\t# draw a bounding box rectangle and label on the frame\n",
    "\t\t\tcolor = [int(c) for c in COLORS[classIDs[i]]]\n",
    "\t\t\tcv2.rectangle(frame, (x, y), (x + w, y + h), color, 2)\n",
    "\t\t\ttext = \"{}: {:.4f}\".format(LABELS[classIDs[i]],confidences[i])\n",
    "\t\t\tcv2.putText(frame, text, (x, y - 5),cv2.FONT_HERSHEY_SIMPLEX, 0.5, color, 2)\n",
    "            \n",
    "\t# check if the video writer is None\n",
    "\tif writer is None:\n",
    "        \n",
    "\t\t# initialize our video writer\n",
    "\t\tfourcc = cv2.VideoWriter_fourcc(*\"MJPG\")\n",
    "\t\twriter = cv2.VideoWriter(\"output/car_chase_01.avi\", fourcc, 30,(frame.shape[1], frame.shape[0]), True)\n",
    "        \n",
    "\t\t# some information on processing single frame\n",
    "\t\tif total > 0:\n",
    "\t\t\telap = (end - start)\n",
    "\t\t\tprint(\"[INFO] single frame took {:.4f} seconds\".format(elap))\n",
    "\t\t\tprint(\"[INFO] estimated total time to finish: {:.4f}\".format(elap * total))\n",
    "            \n",
    "\t# write the output frame to disk\n",
    "\twriter.write(frame)\n",
    "# release the file pointers\n",
    "print(\"[INFO] cleaning up...\")\n",
    "writer.release()\n",
    "vs.release()\n",
    "                \n",
    "                "
   ]
  },
  {
   "cell_type": "code",
   "execution_count": null,
   "metadata": {},
   "outputs": [],
   "source": []
  }
 ],
 "metadata": {
  "kernelspec": {
   "display_name": "Python 3",
   "language": "python",
   "name": "python3"
  },
  "language_info": {
   "codemirror_mode": {
    "name": "ipython",
    "version": 3
   },
   "file_extension": ".py",
   "mimetype": "text/x-python",
   "name": "python",
   "nbconvert_exporter": "python",
   "pygments_lexer": "ipython3",
   "version": "3.7.4"
  }
 },
 "nbformat": 4,
 "nbformat_minor": 2
}
